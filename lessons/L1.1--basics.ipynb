{
 "cells": [
  {
   "cell_type": "markdown",
   "metadata": {},
   "source": [
    "# L1.1 Основы Python\n",
    "\n",
    "A few things berofe we start:\n",
    "\n",
    "* Автор тетрадки: Игорь Мосягин [@shrimpsizemoose](twitter.com/shrimpsizemoose)\n",
    "* Использовались очевидные заимствования отовсюду подряд, материал никак не претендует на уникальность. Однако, любые опечатки и неточности, конечно же, исключительно на моей совести\n",
    "* Тут подразумевается Python3.6, скорее всего что-то не будет работать с более ранними версиями\n",
    "* Я мало пишу на русском. Замечания про опечатки, отсутствующие запятые и несогласованные предложения приветствуются"
   ]
  },
  {
   "cell_type": "markdown",
   "metadata": {},
   "source": [
    "## немного об этой тетрадке\n",
    "\n",
    "Тут можно писать комментарии в языке **Markdown**, это такая разметка.\n",
    "\n",
    "Среда называется jupyter notebook. Мы подробно про неё поговорим попозже, но если вы найдёте способ открыть этот файл сейчас у себа самостоятельно, то сейчас самое главное это запомнить два сочетания клавиш: Ctrl+Enter и Shift+Enter. Остальное можно выбрать мышкой.\n",
    "\n",
    "Начнём с классики, основная функция, которая нам пригодится печатает то, что мы её просим напечатать:"
   ]
  },
  {
   "cell_type": "code",
   "execution_count": 1,
   "metadata": {},
   "outputs": [
    {
     "name": "stdout",
     "output_type": "stream",
     "text": [
      "Привет, Плешка\n"
     ]
    }
   ],
   "source": [
    "print(\"Привет, Плешка\")"
   ]
  },
  {
   "cell_type": "markdown",
   "metadata": {},
   "source": [
    "Это можно написать по-другому, склеив два слова. По-умному когда две строки склеиваются, это называется [конкатенация](https://ru.wikipedia.org/wiki/%D0%9A%D0%BE%D0%BD%D0%BA%D0%B0%D1%82%D0%B5%D0%BD%D0%B0%D1%86%D0%B8%D1%8F)."
   ]
  },
  {
   "cell_type": "code",
   "execution_count": 2,
   "metadata": {},
   "outputs": [
    {
     "name": "stdout",
     "output_type": "stream",
     "text": [
      "Привет, Плешка\n"
     ]
    }
   ],
   "source": [
    "print(\"Привет\" + \", \" + \"Плешка\")"
   ]
  },
  {
   "cell_type": "markdown",
   "metadata": {},
   "source": [
    "Кажется глупым просто так разбивать искуственно строку на три когда можно было написать сразу одну. Поэтому давайте про переменные.\n",
    "\n",
    "## Переменные.\n",
    "\n",
    "Переменная это такая штука (число/строка/объект), которую мы обозначаем особой меткой.\n",
    "\n",
    "Можно называть переменные русскими буквами. Если вы так будете делать, у вас не будет друзей"
   ]
  },
  {
   "cell_type": "code",
   "execution_count": 3,
   "metadata": {},
   "outputs": [
    {
     "name": "stdout",
     "output_type": "stream",
     "text": [
      "Привет, Плешка!\n"
     ]
    }
   ],
   "source": [
    "привет_плешка = \"Привет, Плешка!\"\n",
    "print(привет_плешка)"
   ]
  },
  {
   "cell_type": "markdown",
   "metadata": {},
   "source": [
    "Вообще, названия переменных могут _(должны)_ содержать только `a-zA-Z`, символ `_` и цифры, если цифра это не первое"
   ]
  },
  {
   "cell_type": "code",
   "execution_count": 4,
   "metadata": {},
   "outputs": [
    {
     "name": "stdout",
     "output_type": "stream",
     "text": [
      "Привет, Плешка\n"
     ]
    }
   ],
   "source": [
    "hello = \"Привет\"\n",
    "rea = \"Плешка\"\n",
    "print(hello + \", \" + rea)"
   ]
  },
  {
   "cell_type": "markdown",
   "metadata": {},
   "source": [
    "Вот так хоп и напишем функцию например, которая демонстриует несколько способов вставить в строку переменную (это обычно называется _интерполировать_ в строку)."
   ]
  },
  {
   "cell_type": "code",
   "execution_count": 5,
   "metadata": {},
   "outputs": [
    {
     "name": "stdout",
     "output_type": "stream",
     "text": [
      "Привет, Плешка\n",
      "Привет, Плешка\n",
      "Привет, Плешка\n",
      "Привет, Плешка\n",
      "Привет, о дивный новый мир\n",
      "Привет, о дивный новый мир\n",
      "Привет, о дивный новый мир\n",
      "Привет, о дивный новый мир\n"
     ]
    }
   ],
   "source": [
    "# скобки могут быть как одинарные так и двойные.\n",
    "hello = \"Привет\" # главное чтобы парные\n",
    "# всё что после символа '#' до конца строки это комментарий\n",
    "\n",
    "def greet_this(person_or_entity):\n",
    "    print(\"Привет, %s\" % person_or_entity)\n",
    "    print(hello + \", \" + person_or_entity)\n",
    "    print(f\"{hello}, {person_or_entity}\")\n",
    "    print(\", \".join([hello, person_or_entity]))\n",
    "\n",
    "greet_this(\"Плешка\")\n",
    "greet_this(\"о дивный новый мир\")"
   ]
  },
  {
   "cell_type": "markdown",
   "metadata": {},
   "source": [
    "Про штуку с `join` мы ещё поговорим ниже, когда дойдём до списков. Пока что обратите внимание, что в области видимости функции переменная `hello` не существует и была использована переменная с таким именем из внешнего блока.\n",
    "\n",
    "В принципе, то что это получилось сделать несколькими способами это отображение одной из основных философий дизайна python &mdash; для всего должно быть несколько способов это сделать.\n",
    "\n",
    "Теперь сделаем ещё так, что у нашей функции несколько параметров и пусть они будут со значениями по умолчанию, и не строками."
   ]
  },
  {
   "cell_type": "code",
   "execution_count": 6,
   "metadata": {},
   "outputs": [
    {
     "name": "stdout",
     "output_type": "stream",
     "text": [
      "Привет 42.73 753000004\n",
      "Привет 42.725 753000004\n",
      "Привет 42.73 7.53e+08\n",
      "Привет -,2 42.725 -,2 753000004\n",
      "----\n",
      "Привет 3.14 2.718281828\n",
      "Привет 3.1415926 2.718281828\n",
      "Привет 3.14 2.71828\n",
      "Привет -,2 3.1415926 -,2 2.718281828\n"
     ]
    }
   ],
   "source": [
    "def greet_fancy_shmancy(name=42.7250, surname=753000004):\n",
    "    print(f'{hello} {name:.2f} {surname}')\n",
    "    print(hello + \" \" + str(name) + \" \" + str(surname))\n",
    "    print(\"%s %.2f %g\" % (hello, name, surname))\n",
    "    print(\" -,2 \".join([hello, str(name), str(surname)]))\n",
    "    \n",
    "greet_fancy_shmancy()\n",
    "print(\"----\")\n",
    "greet_fancy_shmancy(surname=2.718281828, name=3.1415926)"
   ]
  },
  {
   "cell_type": "markdown",
   "metadata": {},
   "source": [
    "Последний пример намекает, что если вы меняете аргументы местами, их надо явно помечать. Ещё нельзя мешать позиционные и непозиционные аргументы, потому что интепретатор вас не поймёт (нельзя в примере выше написать `greet_fancy_shmancy(surname=7, 22)`. Наименованные аргументы должны идти после позиционных.\n",
    "\n",
    "Основное правило синтаксиса &mdash; надо следить за индентацией. В питоне индентация используется для разграничения блоков (в `C` для этого фигурные скобки, а тут вместо открывающей фигурной скобки `:`, а вместо закрывающей обратная индентация. Если в примере выше сломать индентацию, то вас не поймёт интерпретатор.\n",
    "Ещё мы там использовали разные модификации вывода, про них можно почитать подробно [в документации](https://docs.python.org/3/library/stdtypes.html#printf-style-string-formatting). **Вообще же, рекомендую использовать первый вариант с f-строками, он наиболее компактный на мой взгляд**.\n",
    "\n",
    "Базовых типов в питоне немного. Это `str`, `float`, `int`, `complex`, `boolean`. Булевый самый простой и с ним можно использовать всякие операции "
   ]
  },
  {
   "cell_type": "code",
   "execution_count": 7,
   "metadata": {},
   "outputs": [
    {
     "name": "stdout",
     "output_type": "stream",
     "text": [
      "True\n",
      "False\n",
      "False\n",
      "False\n"
     ]
    }
   ],
   "source": [
    "boolean_var = False\n",
    "print(boolean_var == False)\n",
    "print(boolean_var != False)\n",
    "print(boolean_var or False)\n",
    "print(boolean_var and False)"
   ]
  },
  {
   "cell_type": "markdown",
   "metadata": {},
   "source": [
    "Вообще, в питоне почти всё &mdash; объект, поэтому у почти всего есть свои методы. Метод это как функция, только у которой сразу есть доступ к полям объекта. Если сейчас это непонятно, то будет понятно позже, когда будем говорить про классы."
   ]
  },
  {
   "cell_type": "code",
   "execution_count": 8,
   "metadata": {},
   "outputs": [
    {
     "name": "stdout",
     "output_type": "stream",
     "text": [
      "['__abs__', '__add__', '__bool__', '__class__', '__delattr__', '__dir__', '__divmod__', '__doc__', '__eq__', '__float__', '__floordiv__', '__format__', '__ge__', '__getattribute__', '__getformat__', '__getnewargs__', '__gt__', '__hash__', '__init__', '__init_subclass__', '__int__', '__le__', '__lt__', '__mod__', '__mul__', '__ne__', '__neg__', '__new__', '__pos__', '__pow__', '__radd__', '__rdivmod__', '__reduce__', '__reduce_ex__', '__repr__', '__rfloordiv__', '__rmod__', '__rmul__', '__round__', '__rpow__', '__rsub__', '__rtruediv__', '__setattr__', '__setformat__', '__sizeof__', '__str__', '__sub__', '__subclasshook__', '__truediv__', '__trunc__', 'as_integer_ratio', 'conjugate', 'fromhex', 'hex', 'imag', 'is_integer', 'real']\n",
      "<class 'float'>\n"
     ]
    }
   ],
   "source": [
    "obj = 46.2\n",
    "print(dir(obj))\n",
    "print(type(obj))"
   ]
  },
  {
   "cell_type": "code",
   "execution_count": 9,
   "metadata": {
    "scrolled": true
   },
   "outputs": [
    {
     "name": "stdout",
     "output_type": "stream",
     "text": [
      "['__add__', '__class__', '__contains__', '__delattr__', '__dir__', '__doc__', '__eq__', '__format__', '__ge__', '__getattribute__', '__getitem__', '__getnewargs__', '__gt__', '__hash__', '__init__', '__init_subclass__', '__iter__', '__le__', '__len__', '__lt__', '__mod__', '__mul__', '__ne__', '__new__', '__reduce__', '__reduce_ex__', '__repr__', '__rmod__', '__rmul__', '__setattr__', '__sizeof__', '__str__', '__subclasshook__', 'capitalize', 'casefold', 'center', 'count', 'encode', 'endswith', 'expandtabs', 'find', 'format', 'format_map', 'index', 'isalnum', 'isalpha', 'isdecimal', 'isdigit', 'isidentifier', 'islower', 'isnumeric', 'isprintable', 'isspace', 'istitle', 'isupper', 'join', 'ljust', 'lower', 'lstrip', 'maketrans', 'partition', 'replace', 'rfind', 'rindex', 'rjust', 'rpartition', 'rsplit', 'rstrip', 'split', 'splitlines', 'startswith', 'strip', 'swapcase', 'title', 'translate', 'upper', 'zfill']\n",
      "<class 'str'>\n"
     ]
    }
   ],
   "source": [
    "obj = \"Сосисочка\"\n",
    "print(dir(obj))\n",
    "print(type(obj))"
   ]
  },
  {
   "cell_type": "markdown",
   "metadata": {},
   "source": [
    "Можно заметить что, во-первых, мы назвали одной и той же переменной два разных типа (первый раз float, второй строку), что можно было сделать потому что python &mdash; язык программирования с динамической типизацией. А ещё можно заметить что у этих двух объектов разный набор методов. "
   ]
  },
  {
   "cell_type": "code",
   "execution_count": 10,
   "metadata": {},
   "outputs": [
    {
     "name": "stdout",
     "output_type": "stream",
     "text": [
      "СТРОКА строка Строка\n",
      "True False\n",
      "----------------------стРОкА----------------------\n"
     ]
    }
   ],
   "source": [
    "obj = \"стРОкА\"\n",
    "print(obj.upper(), obj.lower(), obj.title())\n",
    "print(obj.isalpha(), obj.isdigit())\n",
    "print(obj.center(50, '-'))"
   ]
  },
  {
   "cell_type": "markdown",
   "metadata": {},
   "source": [
    "Чтобы посмотреть помощь по какой-то функции, используйте встроенную функцию `help`:"
   ]
  },
  {
   "cell_type": "code",
   "execution_count": 11,
   "metadata": {},
   "outputs": [
    {
     "name": "stdout",
     "output_type": "stream",
     "text": [
      "Help on built-in function center:\n",
      "\n",
      "center(...) method of builtins.str instance\n",
      "    S.center(width[, fillchar]) -> str\n",
      "    \n",
      "    Return S centered in a string of length width. Padding is\n",
      "    done using the specified fill character (default is a space)\n",
      "\n"
     ]
    }
   ],
   "source": [
    "help(obj.center)"
   ]
  },
  {
   "cell_type": "markdown",
   "metadata": {},
   "source": [
    "В хелпе видно что у функции `center` два аргумента, при этом второй опциональный (это можно понять по тому, что он в квадратных кавычках)\n",
    "\n",
    "Все методы, название которых начинается с двух подчёркиваний являются служебными. Это не значит, что их нельзя вызывать напрямую, надо просто иметь в виду что они будут вызываться, когда интерпретатор увидит соответствующий оператор. Это удобно, потому что их можно перегружать для своих кастомных классов"
   ]
  },
  {
   "cell_type": "code",
   "execution_count": 12,
   "metadata": {},
   "outputs": [
    {
     "name": "stdout",
     "output_type": "stream",
     "text": [
      "20\n",
      "20\n",
      "False\n",
      "False\n"
     ]
    }
   ],
   "source": [
    "a = 15\n",
    "print(a + 5)\n",
    "print(a.__add__(5))\n",
    "print(a < 10)\n",
    "print(a.__lt__(10))  # lt от less than"
   ]
  },
  {
   "cell_type": "markdown",
   "metadata": {},
   "source": [
    "## Контейнеры\n",
    "\n",
    "Контейнеры хранят в себе переменные. За счёт динамической типизации, они могут хранить в себе что угодно. Видов контейнеров в питоне несколько:\n",
    "\n",
    "* tuple\n",
    "* list\n",
    "* dict\n",
    "* set"
   ]
  },
  {
   "cell_type": "markdown",
   "metadata": {},
   "source": [
    "### Tuple\n",
    "\n",
    "По-русски это кортеж, но я не видел чтобы кто-то серьёзно его так называл. Его особенность в том, что у него нельзя менять конкретные элементы. Чтобы создать `tuple`, оберните все свои объекты в круглые скобочки и разделите запятыми. При этом, если у вас только один объект, а вы хотите tuple, то вам надо всё равно поставить одну запятую. "
   ]
  },
  {
   "cell_type": "code",
   "execution_count": 13,
   "metadata": {},
   "outputs": [
    {
     "name": "stdout",
     "output_type": "stream",
     "text": [
      "<class 'str'>\n",
      "<class 'tuple'>\n",
      "['__add__', '__class__', '__contains__', '__delattr__', '__dir__', '__doc__', '__eq__', '__format__', '__ge__', '__getattribute__', '__getitem__', '__getnewargs__', '__gt__', '__hash__', '__init__', '__init_subclass__', '__iter__', '__le__', '__len__', '__lt__', '__mul__', '__ne__', '__new__', '__reduce__', '__reduce_ex__', '__repr__', '__rmul__', '__setattr__', '__sizeof__', '__str__', '__subclasshook__', 'count', 'index']\n"
     ]
    }
   ],
   "source": [
    "# TUPLE\n",
    "t = ('a')\n",
    "print(type(t))\n",
    "t = ('a',)\n",
    "print(type(t))\n",
    "print(dir(t))"
   ]
  },
  {
   "cell_type": "code",
   "execution_count": 14,
   "metadata": {},
   "outputs": [
    {
     "name": "stdout",
     "output_type": "stream",
     "text": [
      "('а', 2, 7, 15, 12, 'блаблабла')\n",
      "7\n",
      "15\n"
     ]
    }
   ],
   "source": [
    "t = ('а', 2) + (7, 15, 12, \"блаблабла\")\n",
    "print(t)\n",
    "print(t[2])   # 3 элемент с начала\n",
    "print(t[-3])  # 3 элемент с конца"
   ]
  },
  {
   "cell_type": "markdown",
   "metadata": {},
   "source": [
    "Индексация в питоне от нуля (первый элемент имеет индекс 0), обращение по индексу делается с помощью квадратных скобок.\n",
    "\n",
    "Как я говорил, в tuple нельзя изменять конкретные элементы. Следущий код у нас упадёт:"
   ]
  },
  {
   "cell_type": "code",
   "execution_count": 15,
   "metadata": {},
   "outputs": [
    {
     "ename": "TypeError",
     "evalue": "'tuple' object does not support item assignment",
     "output_type": "error",
     "traceback": [
      "\u001b[0;31m---------------------------------------------------------------------------\u001b[0m",
      "\u001b[0;31mTypeError\u001b[0m                                 Traceback (most recent call last)",
      "\u001b[0;32m<ipython-input-15-481d019f24f7>\u001b[0m in \u001b[0;36m<module>\u001b[0;34m()\u001b[0m\n\u001b[0;32m----> 1\u001b[0;31m \u001b[0mt\u001b[0m\u001b[0;34m[\u001b[0m\u001b[0;36m0\u001b[0m\u001b[0;34m]\u001b[0m \u001b[0;34m=\u001b[0m \u001b[0;34m'б'\u001b[0m\u001b[0;34m\u001b[0m\u001b[0m\n\u001b[0m",
      "\u001b[0;31mTypeError\u001b[0m: 'tuple' object does not support item assignment"
     ]
    }
   ],
   "source": [
    "t[0] = 'б'"
   ]
  },
  {
   "cell_type": "markdown",
   "metadata": {},
   "source": [
    "Помимо такой индексации, таплы, (как и списки, о которых ниже) поддерживают слайсинг. Это когда вы можете нарезать ваш объект так, чтобы сделать новый под-объект."
   ]
  },
  {
   "cell_type": "code",
   "execution_count": 16,
   "metadata": {},
   "outputs": [
    {
     "name": "stdout",
     "output_type": "stream",
     "text": [
      "('Жёлтый',)\n",
      "('Голубой', 'Синий', 'Фиолетовый')\n",
      "('Красный', 'Оранжевый', 'Жёлтый', 'Зелёный')\n",
      "('Красный', 'Оранжевый', 'Жёлтый', 'Зелёный', 'Голубой', 'Синий', 'Фиолетовый')\n",
      "('Жёлтый', 'Зелёный', 'Голубой')\n",
      "('Жёлтый', 'Голубой')\n",
      "('Синий', 'Голубой', 'Зелёный')\n"
     ]
    }
   ],
   "source": [
    "obj = (\"Красный\",\n",
    "       \"Оранжевый\",\n",
    "       \"Жёлтый\",\n",
    "       \"Зелёный\",\n",
    "       \"Голубой\",\n",
    "       \"Синий\",\n",
    "       \"Фиолетовый\")\n",
    "\n",
    "print(obj[2:3])\n",
    "print(obj[4:])\n",
    "print(obj[:4])\n",
    "print(obj[:100])\n",
    "print(obj[-5:-2])\n",
    "print(obj[2:5:2])\n",
    "print(obj[-2:-5:-1])"
   ]
  },
  {
   "cell_type": "markdown",
   "metadata": {},
   "source": [
    "В общем, там всё должно быть понятно, если понять принцип:\n",
    "`obj[i:j:k]` даст нам объект того же типа, с всеми `n` элементами начиная с `i` по `j` с индексами `i + k*m`, `m` &mdash целые от 0 до пока не дойдём до `j`.\n",
    "По умолчанию `i = 0`, `j = len(obj) - 1`, `k = 1`.\n",
    "\n",
    "Короче, если запутались запомните пару примеров. Например, что `obj[2:9:2]` это каждый второй элемент с третьего по десятый."
   ]
  },
  {
   "cell_type": "markdown",
   "metadata": {},
   "source": [
    "### Списки\n",
    "\n",
    "Списки это как `tuple`, только им можно менять конкретные элементы"
   ]
  },
  {
   "cell_type": "code",
   "execution_count": 17,
   "metadata": {},
   "outputs": [
    {
     "name": "stdout",
     "output_type": "stream",
     "text": [
      "['__add__', '__class__', '__contains__', '__delattr__', '__delitem__', '__dir__', '__doc__', '__eq__', '__format__', '__ge__', '__getattribute__', '__getitem__', '__gt__', '__hash__', '__iadd__', '__imul__', '__init__', '__init_subclass__', '__iter__', '__le__', '__len__', '__lt__', '__mul__', '__ne__', '__new__', '__reduce__', '__reduce_ex__', '__repr__', '__reversed__', '__rmul__', '__setattr__', '__setitem__', '__sizeof__', '__str__', '__subclasshook__', 'append', 'clear', 'copy', 'count', 'extend', 'index', 'insert', 'pop', 'remove', 'reverse', 'sort'] \n",
      "\n",
      "[1, 2]\n",
      "2\n"
     ]
    }
   ],
   "source": [
    "l = list()\n",
    "print(dir(l), \"\\n\")\n",
    "l.append(1)\n",
    "l.append(2)\n",
    "\n",
    "print(l)\n",
    "print(l[1])"
   ]
  },
  {
   "cell_type": "code",
   "execution_count": 18,
   "metadata": {},
   "outputs": [
    {
     "name": "stdout",
     "output_type": "stream",
     "text": [
      "[1, 2, 3]\n",
      "[1, 2, 3, 4, 5, 6]\n",
      "[1, 2, 3, 4, 5, 6, [7, 8, 9]]\n",
      "[1, 2, 3, 4, 5, 6, [7, 8, 9], 10]\n",
      "[3, 4, 5]\n",
      "[3, 4, 5, 6, [7, 8, 9]]\n"
     ]
    }
   ],
   "source": [
    "l = [1,2,3]\n",
    "print(l)\n",
    "\n",
    "l.extend((4,5,6))\n",
    "print(l)\n",
    "\n",
    "l.append([7,8,9])\n",
    "print(l)\n",
    "\n",
    "l.append(10)\n",
    "print(l)\n",
    "\n",
    "## slice\n",
    "print(l[2:5])\n",
    "print(l[2:-1])"
   ]
  },
  {
   "cell_type": "code",
   "execution_count": 19,
   "metadata": {},
   "outputs": [
    {
     "data": {
      "text/plain": [
       "[1, 2, 3, 4, 5, 6, [7, 8, 9], 10, 'something']"
      ]
     },
     "execution_count": 19,
     "metadata": {},
     "output_type": "execute_result"
    }
   ],
   "source": [
    "l.append(\"something\")\n",
    "l"
   ]
  },
  {
   "cell_type": "code",
   "execution_count": 20,
   "metadata": {},
   "outputs": [
    {
     "name": "stdout",
     "output_type": "stream",
     "text": [
      "[1, 1, 1, 1, 1, 1, 1, 1, 1, 1]\n"
     ]
    }
   ],
   "source": [
    "l = [1]*10\n",
    "print(l)"
   ]
  },
  {
   "cell_type": "code",
   "execution_count": 21,
   "metadata": {},
   "outputs": [
    {
     "name": "stdout",
     "output_type": "stream",
     "text": [
      "['штука', 'штука', 'штука', 'штука', 'штука', 'штука', 'штука', 'штука', 'штука', 'штука']\n"
     ]
    }
   ],
   "source": [
    "l = ['штука']*10\n",
    "print(l)"
   ]
  },
  {
   "cell_type": "code",
   "execution_count": 22,
   "metadata": {},
   "outputs": [
    {
     "name": "stdout",
     "output_type": "stream",
     "text": [
      "Что - Где - Когда - Куда - Нибудь\n"
     ]
    }
   ],
   "source": [
    "l = [\"Что\", \"Где\", \"Когда\", \"Куда\", \"Нибудь\"]\n",
    "print(\" - \".join(l))"
   ]
  },
  {
   "cell_type": "markdown",
   "metadata": {},
   "source": [
    "Да, это тот самый join, который мы видели раньше.\n",
    "\n",
    "Ещё, поскольку у списка можно менять элементы, можно легко поменять два элемента местами, воспользовавшись ещё одной прикольной фишкой питона:"
   ]
  },
  {
   "cell_type": "code",
   "execution_count": 23,
   "metadata": {},
   "outputs": [
    {
     "name": "stdout",
     "output_type": "stream",
     "text": [
      "4 2\n",
      "2 4\n",
      "---\n",
      "['Что', 'Где', 'Когда', 'Куда', 'Нибудь']\n",
      "['Что', 'Нибудь', 'Когда', 'Куда', 'Где']\n"
     ]
    }
   ],
   "source": [
    "a = 4\n",
    "b = 2\n",
    "print(a, b)\n",
    "a, b = b, a\n",
    "print(a, b)\n",
    "print(\"---\")\n",
    "print(l)\n",
    "l[1], l[4] = l[4], l[1]\n",
    "print(l)"
   ]
  },
  {
   "cell_type": "markdown",
   "metadata": {},
   "source": [
    "А ещё на самом деле строка это тоже типа список, соответственно можно делать слайсинг:"
   ]
  },
  {
   "cell_type": "code",
   "execution_count": 24,
   "metadata": {},
   "outputs": [
    {
     "data": {
      "text/plain": [
       "'ги-+~}:'"
      ]
     },
     "execution_count": 24,
     "metadata": {},
     "output_type": "execute_result"
    }
   ],
   "source": [
    "'Евгений Онегин'[2:7:3] + \"-+~}:\""
   ]
  },
  {
   "cell_type": "markdown",
   "metadata": {},
   "source": [
    "Правда, чтобы делать другие операции, придётся скастовать к списку явно"
   ]
  },
  {
   "cell_type": "code",
   "execution_count": 25,
   "metadata": {},
   "outputs": [
    {
     "name": "stdout",
     "output_type": "stream",
     "text": [
      "нннйииееггвОЕ \n"
     ]
    }
   ],
   "source": [
    "evg = \"Евгений Онегин\"\n",
    "evg = list(evg)\n",
    "evg.sort(reverse=True)\n",
    "print(''.join(evg))"
   ]
  },
  {
   "cell_type": "markdown",
   "metadata": {},
   "source": [
    "#### Интерлюдия\n",
    "\n",
    "Решим простую задачку со списками, заодно немного посмотрев на то, как работают всякие циклы и ветвления в этом нашем питоне.\n",
    "\n",
    "Допустим, у нас есть список чисел и мы хотим его \"пофильтровать\", оставив только чётные элементы этого списка, сохранив его в новом списке. Есть несколько способов это сделать."
   ]
  },
  {
   "cell_type": "code",
   "execution_count": 26,
   "metadata": {
    "collapsed": true
   },
   "outputs": [],
   "source": [
    "initial = [2, 4, 7335, 753, 2, -17, -22]"
   ]
  },
  {
   "cell_type": "markdown",
   "metadata": {},
   "source": [
    "##### Способ 1\n",
    "\n",
    "Это как бы мы сделали в каком-нибудь простом языке типа C с минимумом примочек."
   ]
  },
  {
   "cell_type": "code",
   "execution_count": 27,
   "metadata": {},
   "outputs": [],
   "source": [
    "odds1 = []  # пустой список\n",
    "i = 0\n",
    "while i < len(initial):\n",
    "    current = initial[i]\n",
    "    current_is_odd = ((current % 2) == 1)\n",
    "    if current_is_odd:\n",
    "        odds1.append(current)\n",
    "        \n",
    "    i = i + 1"
   ]
  },
  {
   "cell_type": "markdown",
   "metadata": {},
   "source": [
    "##### Способ 2\n",
    "\n",
    "Немножко более питонячий, мы, избавляемя от явного `i = 0` и `i = i + 1`, за счёт этого чуть меньше вероятность ошибиться "
   ]
  },
  {
   "cell_type": "code",
   "execution_count": 28,
   "metadata": {
    "collapsed": true
   },
   "outputs": [],
   "source": [
    "odds2 = []\n",
    "\n",
    "for current in initial:\n",
    "    current_is_odd = ((current % 2) == 1)\n",
    "    if current_is_odd:\n",
    "        odds2.append(current)"
   ]
  },
  {
   "cell_type": "markdown",
   "metadata": {},
   "source": [
    "Получилось примерно то же самое, особенно внутри списка, но вся часть с итерацией по элементам списка \"спряталась\" под капот\n",
    "\n",
    "##### Способ 3\n",
    "\n",
    "Наиболее питонячий, прикольный, однострочный и молодёжный"
   ]
  },
  {
   "cell_type": "code",
   "execution_count": 29,
   "metadata": {
    "collapsed": true
   },
   "outputs": [],
   "source": [
    "odds3 = [current for current in initial if (current % 2 == 1)]"
   ]
  },
  {
   "cell_type": "markdown",
   "metadata": {},
   "source": [
    "Все три способа дают одинаковый результат"
   ]
  },
  {
   "cell_type": "code",
   "execution_count": 30,
   "metadata": {},
   "outputs": [
    {
     "name": "stdout",
     "output_type": "stream",
     "text": [
      "Способ 1: [7335, 753, -17]\n",
      "Способ 2: [7335, 753, -17]\n",
      "Способ 3: [7335, 753, -17]\n"
     ]
    }
   ],
   "source": [
    "print(\"Способ 1:\", odds1)\n",
    "print(\"Способ 2:\", odds2)\n",
    "print(\"Способ 3:\", odds3)"
   ]
  },
  {
   "cell_type": "markdown",
   "metadata": {},
   "source": [
    "### Sets\n",
    "\n",
    "Сеты это несортированные последовательности из уникальных значений, для которых определены операции над множествами."
   ]
  },
  {
   "cell_type": "code",
   "execution_count": 31,
   "metadata": {},
   "outputs": [
    {
     "name": "stdout",
     "output_type": "stream",
     "text": [
      "{'В', 'л', 'и', 'Я', 'а', 'к', 'п', 'р', 'с', 'о'}\n",
      "{'л'}\n",
      "{'В', 'к', 'п', 'с', 'о', 'и', 'Я', 'а', 'р'}\n",
      "True\n"
     ]
    }
   ],
   "source": [
    "name = set(\"Василиса\")\n",
    "name2 = set(\"Ярополк\")\n",
    "print(name2 | name)\n",
    "print(name2 & name)\n",
    "print(name ^ name2)\n",
    "print(\"В\" in (name2 | name))"
   ]
  },
  {
   "cell_type": "code",
   "execution_count": 32,
   "metadata": {},
   "outputs": [
    {
     "name": "stdout",
     "output_type": "stream",
     "text": [
      "{'л', 'и', 'а', 'с'}\n"
     ]
    }
   ],
   "source": [
    "name -= set([\"В\"])\n",
    "print(name)"
   ]
  },
  {
   "cell_type": "markdown",
   "metadata": {},
   "source": [
    "### Словарики\n",
    "\n",
    "Словарики в питоне это, по сути, [хэш-таблица](https://en.wikipedia.org/wiki/Hash_table), в качестве хэш-функции для которой используется внутренняя функция `hash`. Это такой же мэппинг между ключами и значениями (и в качестве значений может быть почти что угодно), но так как мы не можем заранее знать ничего про ключ. "
   ]
  },
  {
   "cell_type": "code",
   "execution_count": 33,
   "metadata": {},
   "outputs": [
    {
     "data": {
      "text/plain": [
       "{0: 'Василиса', 'Ярополк': 'Серафим'}"
      ]
     },
     "execution_count": 33,
     "metadata": {},
     "output_type": "execute_result"
    }
   ],
   "source": [
    "slovarik = {}\n",
    "slovarik[0] = \"Василиса\"\n",
    "slovarik[\"Ярополк\"] = \"Серафим\"\n",
    "slovarik"
   ]
  },
  {
   "cell_type": "code",
   "execution_count": 34,
   "metadata": {},
   "outputs": [
    {
     "name": "stdout",
     "output_type": "stream",
     "text": [
      "{0: 'Привет', 1: 'Плешка', 4: 14, 5: 2018}\n"
     ]
    }
   ],
   "source": [
    "d = {}\n",
    "d[0] = hello\n",
    "d[1] = \"Плешка\"\n",
    "d[4] = 14\n",
    "d[5] = 2018\n",
    "print(d)"
   ]
  },
  {
   "cell_type": "code",
   "execution_count": 35,
   "metadata": {},
   "outputs": [
    {
     "name": "stdout",
     "output_type": "stream",
     "text": [
      "(0, 'Привет')\n",
      "(1, 'Плешка')\n",
      "(4, 14)\n",
      "(5, 2018)\n",
      "---\n",
      "0\n",
      "1\n",
      "4\n",
      "5\n",
      "---\n",
      "Привет\n",
      "Плешка\n",
      "14\n",
      "2018\n"
     ]
    }
   ],
   "source": [
    "for i in d.items():\n",
    "    print(i)\n",
    "    \n",
    "print('---')\n",
    "\n",
    "for i in d:\n",
    "    print(i)\n",
    "    \n",
    "print('---')\n",
    "\n",
    "for i in d.values():\n",
    "    print(i)"
   ]
  },
  {
   "cell_type": "code",
   "execution_count": 36,
   "metadata": {},
   "outputs": [
    {
     "name": "stdout",
     "output_type": "stream",
     "text": [
      "False\n",
      "False\n",
      "True\n"
     ]
    }
   ],
   "source": [
    "print(\"Василиса\" in slovarik)\n",
    "print(\"Василиса\" in slovarik.keys())\n",
    "print(\"Василиса\" in slovarik.values())"
   ]
  },
  {
   "cell_type": "code",
   "execution_count": 37,
   "metadata": {},
   "outputs": [
    {
     "name": "stdout",
     "output_type": "stream",
     "text": [
      "0\n",
      "Ярополк\n"
     ]
    }
   ],
   "source": [
    "for item in slovarik.items():\n",
    "    key = item[0]\n",
    "    value = item[1]\n",
    "    print(key)"
   ]
  },
  {
   "cell_type": "code",
   "execution_count": 38,
   "metadata": {},
   "outputs": [
    {
     "name": "stdout",
     "output_type": "stream",
     "text": [
      "0 -> Василиса\n",
      "НАШЛИ ЯРОПОЛКА АААА\n",
      "Ярополк -> Серафим\n"
     ]
    }
   ],
   "source": [
    "for key, value in slovarik.items():\n",
    "    if key == \"Ярополк\":\n",
    "        print(\"НАШЛИ ЯРОПОЛКА АААА\")\n",
    "    print(f'{key} -> {value}')"
   ]
  },
  {
   "cell_type": "code",
   "execution_count": 39,
   "metadata": {},
   "outputs": [
    {
     "name": "stdout",
     "output_type": "stream",
     "text": [
      "{0: 'Василиса', 'Ярополк': 'Сосисочка', 'Рэа': 'Абдыждыжч'}\n"
     ]
    }
   ],
   "source": [
    "noviy_slovarik = {\n",
    "    \"Ярополк\": \"Сосисочка\",\n",
    "    \"Рэа\": \"Абдыждыжч\"\n",
    "}\n",
    "slovarik.update(noviy_slovarik)\n",
    "print(slovarik)"
   ]
  },
  {
   "cell_type": "code",
   "execution_count": 40,
   "metadata": {},
   "outputs": [
    {
     "name": "stdout",
     "output_type": "stream",
     "text": [
      "Абдыждыжч\n"
     ]
    }
   ],
   "source": [
    "print(slovarik[\"Рэа\"])"
   ]
  },
  {
   "cell_type": "code",
   "execution_count": 41,
   "metadata": {},
   "outputs": [
    {
     "data": {
      "text/plain": [
       "'Василиса'"
      ]
     },
     "execution_count": 41,
     "metadata": {},
     "output_type": "execute_result"
    }
   ],
   "source": [
    "slovarik.pop(0)"
   ]
  },
  {
   "cell_type": "code",
   "execution_count": 42,
   "metadata": {},
   "outputs": [
    {
     "data": {
      "text/plain": [
       "{'Рэа': 'Абдыждыжч', 'Ярополк': 'Сосисочка'}"
      ]
     },
     "execution_count": 42,
     "metadata": {},
     "output_type": "execute_result"
    }
   ],
   "source": [
    "slovarik"
   ]
  },
  {
   "cell_type": "code",
   "execution_count": 43,
   "metadata": {},
   "outputs": [
    {
     "data": {
      "text/plain": [
       "'Такого элемента нет'"
      ]
     },
     "execution_count": 43,
     "metadata": {},
     "output_type": "execute_result"
    }
   ],
   "source": [
    "slovarik.get(0, \"Такого элемента нет\")"
   ]
  },
  {
   "cell_type": "code",
   "execution_count": 44,
   "metadata": {},
   "outputs": [
    {
     "ename": "KeyError",
     "evalue": "1",
     "output_type": "error",
     "traceback": [
      "\u001b[0;31m---------------------------------------------------------------------------\u001b[0m",
      "\u001b[0;31mKeyError\u001b[0m                                  Traceback (most recent call last)",
      "\u001b[0;32m<ipython-input-44-044da0765851>\u001b[0m in \u001b[0;36m<module>\u001b[0;34m()\u001b[0m\n\u001b[0;32m----> 1\u001b[0;31m \u001b[0mslovarik\u001b[0m\u001b[0;34m[\u001b[0m\u001b[0;36m1\u001b[0m\u001b[0;34m]\u001b[0m\u001b[0;34m\u001b[0m\u001b[0m\n\u001b[0m",
      "\u001b[0;31mKeyError\u001b[0m: 1"
     ]
    }
   ],
   "source": [
    "slovarik[1]"
   ]
  },
  {
   "cell_type": "code",
   "execution_count": 45,
   "metadata": {},
   "outputs": [
    {
     "data": {
      "text/plain": [
       "{'Рэа': 'Абдыждыжч', 'Ярополк': 'Сосисочка'}"
      ]
     },
     "execution_count": 45,
     "metadata": {},
     "output_type": "execute_result"
    }
   ],
   "source": [
    "slovarik"
   ]
  },
  {
   "cell_type": "markdown",
   "metadata": {},
   "source": [
    "## Перебирание объектов\n",
    "\n",
    "Можно ещё использовать разные встроеные вспомогательные фишечки. Помедитируете над этими вещами"
   ]
  },
  {
   "cell_type": "code",
   "execution_count": 46,
   "metadata": {},
   "outputs": [
    {
     "name": "stdout",
     "output_type": "stream",
     "text": [
      "(0, 'a')\n",
      "(1, 'b')\n",
      "(2, 'c')\n"
     ]
    }
   ],
   "source": [
    "for i in enumerate(['a', 'b', 'c']):\n",
    "    print(i)"
   ]
  },
  {
   "cell_type": "code",
   "execution_count": 47,
   "metadata": {},
   "outputs": [
    {
     "name": "stdout",
     "output_type": "stream",
     "text": [
      "0 : a\n",
      "1 : b\n",
      "2 : c\n"
     ]
    }
   ],
   "source": [
    "for a,b in enumerate(['a','b','c']):\n",
    "    print(a, \":\", b)"
   ]
  },
  {
   "cell_type": "code",
   "execution_count": 48,
   "metadata": {},
   "outputs": [
    {
     "name": "stdout",
     "output_type": "stream",
     "text": [
      "0\n",
      "1\n",
      "2\n",
      "3\n",
      "4\n"
     ]
    }
   ],
   "source": [
    "for i in range(5):\n",
    "    print(i)"
   ]
  },
  {
   "cell_type": "code",
   "execution_count": 49,
   "metadata": {},
   "outputs": [
    {
     "name": "stdout",
     "output_type": "stream",
     "text": [
      "0\n",
      "1\n",
      "2\n",
      "3\n",
      "4\n"
     ]
    }
   ],
   "source": [
    "i = 0\n",
    "while i < 5:\n",
    "    print(i)\n",
    "    i+=1"
   ]
  },
  {
   "cell_type": "markdown",
   "metadata": {},
   "source": [
    "## Управление управлением управления"
   ]
  },
  {
   "cell_type": "code",
   "execution_count": 50,
   "metadata": {},
   "outputs": [
    {
     "name": "stdout",
     "output_type": "stream",
     "text": [
      "X равен одному, ты что слепой?\n"
     ]
    }
   ],
   "source": [
    "x = 1\n",
    "if x == 1:\n",
    "    print(\"X равен одному, ты что слепой?\")\n",
    "elif x == 2:\n",
    "    print(\"X равен двум.\")\n",
    "else:\n",
    "    print(\"Я не скажу тебе, чему равен X\")"
   ]
  },
  {
   "cell_type": "markdown",
   "metadata": {},
   "source": [
    "## Область видимости переменной"
   ]
  },
  {
   "cell_type": "code",
   "execution_count": 51,
   "metadata": {},
   "outputs": [
    {
     "name": "stdout",
     "output_type": "stream",
     "text": [
      "5\n",
      "0\n"
     ]
    }
   ],
   "source": [
    "num = 0\n",
    "def func():\n",
    "    num = 5 # новая переменная внутри функции\n",
    "    print(num)\n",
    "func()\n",
    "print(num)"
   ]
  },
  {
   "cell_type": "code",
   "execution_count": 52,
   "metadata": {},
   "outputs": [
    {
     "name": "stdout",
     "output_type": "stream",
     "text": [
      "{'num': 3}\n",
      "{'num': 5}\n"
     ]
    }
   ],
   "source": [
    "values = {'num': 3}\n",
    "def func():\n",
    "    # питон сообразит посмотреть выше\n",
    "    values['num'] = 5 \n",
    "print(values)\n",
    "func()\n",
    "print(values)"
   ]
  },
  {
   "cell_type": "markdown",
   "metadata": {},
   "source": [
    "## Пример рекурсивной функции\n",
    "\n",
    "Классический кейс для последовательности Фибоначчи"
   ]
  },
  {
   "cell_type": "code",
   "execution_count": 53,
   "metadata": {
    "collapsed": true
   },
   "outputs": [],
   "source": [
    "def F(n):\n",
    "    if n == 0: return 0\n",
    "    elif n == 1: return 1\n",
    "    else: return F(n-1) + F(n-2)"
   ]
  },
  {
   "cell_type": "code",
   "execution_count": 54,
   "metadata": {},
   "outputs": [
    {
     "name": "stdout",
     "output_type": "stream",
     "text": [
      "0, 1, 1, 2, 3, 5, 8, 13, 21, 34, 55, 89, 144, 233, 377\n"
     ]
    }
   ],
   "source": [
    "print(\", \".join([str(F(x)) for x in range(15)]))"
   ]
  },
  {
   "cell_type": "markdown",
   "metadata": {},
   "source": [
    "На этом пока всё. // IM"
   ]
  }
 ],
 "metadata": {
  "kernelspec": {
   "display_name": "Python 3",
   "language": "python",
   "name": "python3"
  },
  "language_info": {
   "codemirror_mode": {
    "name": "ipython",
    "version": 3
   },
   "file_extension": ".py",
   "mimetype": "text/x-python",
   "name": "python",
   "nbconvert_exporter": "python",
   "pygments_lexer": "ipython3",
   "version": "3.6.4"
  }
 },
 "nbformat": 4,
 "nbformat_minor": 2
}
